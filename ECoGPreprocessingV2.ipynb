{
 "cells": [
  {
   "cell_type": "code",
   "execution_count": 1,
   "id": "0f78608b-3ccb-4d75-be52-6b58ce4cdfb0",
   "metadata": {},
   "outputs": [],
   "source": [
    "import pandas as pd\n",
    "import numpy as np\n",
    "import matplotlib.pyplot as plt\n",
    "import scipy.io\n",
    "import mne\n",
    "from scipy.signal import detrend\n",
    "from scipy.stats import rankdata"
   ]
  },
  {
   "cell_type": "code",
   "execution_count": 2,
   "id": "871c26bd-1539-4e6f-b97d-a5ffa7a697a5",
   "metadata": {},
   "outputs": [],
   "source": [
    "sampling_freq = 512 #Hz\n",
    "l_freq = 70 # highpass\n",
    "h_freq = 200 # lowpass"
   ]
  },
  {
   "cell_type": "code",
   "execution_count": 3,
   "id": "9619a751-5b35-4658-81ac-291df46d9528",
   "metadata": {},
   "outputs": [],
   "source": [
    "def preprocess(patient_id, film_clip_num):\n",
    "    # Load data\n",
    "    trial_data = scipy.io.loadmat('/scratch/gpfs/mayaar/GravityECoG/derivatives/preprocessing/sub-ny' + patient_id + '/eeg' + film_clip_num + '_manualica_notch_trial_data.mat')['trial']\n",
    "    \n",
    "    # Detrend data (remove linear trend)\n",
    "    detrended_data = detrend(trial_data)\n",
    "    \n",
    "    # Bandpass filter data (70-200 Hz)\n",
    "    filtered_data = mne.filter.filter_data(detrended_data, sampling_freq, l_freq, h_freq, method='iir')\n",
    "        \n",
    "    # Extract signal envelope\n",
    "    n_channels = filtered_data.shape[0]\n",
    "    ch_types = ['eeg'] * n_channels\n",
    "    info = mne.create_info(n_channels, ch_types=ch_types, sfreq=sampling_freq)\n",
    "    raw = mne.io.RawArray(np.copy(filtered_data), info)\n",
    "    raw_filtered = raw.apply_hilbert(envelope=True)\n",
    "    non_ranked_data = raw_filtered[:][0]\n",
    "        \n",
    "    # Tie rank data\n",
    "    tie_ranked_data = rankdata(raw_filtered[:][0], axis=1)\n",
    "        \n",
    "    return non_ranked_data, tie_ranked_data"
   ]
  },
  {
   "cell_type": "code",
   "execution_count": null,
   "id": "be53e3b0-a73a-40cd-9ee5-da3050823246",
   "metadata": {},
   "outputs": [],
   "source": []
  }
 ],
 "metadata": {
  "kernelspec": {
   "display_name": "grav-analysis [~/.conda/envs/grav-analysis/]",
   "language": "python",
   "name": "conda_grav-analysis"
  },
  "language_info": {
   "codemirror_mode": {
    "name": "ipython",
    "version": 3
   },
   "file_extension": ".py",
   "mimetype": "text/x-python",
   "name": "python",
   "nbconvert_exporter": "python",
   "pygments_lexer": "ipython3",
   "version": "3.10.6"
  }
 },
 "nbformat": 4,
 "nbformat_minor": 5
}
