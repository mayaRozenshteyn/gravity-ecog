{
 "cells": [
  {
   "cell_type": "code",
   "execution_count": 1,
   "id": "187c361e-d427-451e-8b2c-24c1cbe4f2e0",
   "metadata": {},
   "outputs": [],
   "source": [
    "import numpy as np"
   ]
  },
  {
   "cell_type": "code",
   "execution_count": 2,
   "id": "97945ff0-ea5f-48ba-b6c7-94ac8bd6bca0",
   "metadata": {},
   "outputs": [],
   "source": [
    "id_eleccount = # Removed to protect patient anonymity"
   ]
  },
  {
   "cell_type": "markdown",
   "id": "a2683bbd-30c9-470c-8ccd-f5c94b056ea5",
   "metadata": {},
   "source": [
    "# Randomly Shuffle Word Embeddings 1000 Times"
   ]
  },
  {
   "cell_type": "code",
   "execution_count": null,
   "id": "b6c1e2af-8653-4f06-84ab-dea23566a24d",
   "metadata": {},
   "outputs": [],
   "source": [
    "for patient_id in id_eleccount:\n",
    "    print(patient_id)\n",
    "    \n",
    "    # Load GloVe embeddings\n",
    "    ge_1 = np.load(\"glove_emb_1_\" + patient_id + \".npy\", allow_pickle=True)\n",
    "    ge_2 = np.load(\"glove_emb_2_\" + patient_id + \".npy\", allow_pickle=True)\n",
    "    \n",
    "    # Randomly shuffle GloVe embeddings 1000 times\n",
    "    shuff_g1 = np.zeros((1000, ge_1.shape[0], ge_1.shape[1]))\n",
    "    shuff_g2 = np.zeros((1000, ge_2.shape[0], ge_2.shape[1]))\n",
    "    for i in range(1000):\n",
    "        ge_1_copy = np.copy(ge_1)\n",
    "        np.random.shuffle(ge_1_copy)\n",
    "        shuff_g1[i, :] = ge_1_copy\n",
    "        \n",
    "        ge_2_copy = np.copy(ge_2)\n",
    "        np.random.shuffle(ge_2_copy)\n",
    "        shuff_g2[i, :] = ge_2_copy\n",
    "        \n",
    "    np.save(\"shuff_glove_emb_1_\" + patient_id + \".npy\", shuff_g1)\n",
    "    np.save(\"shuff_glove_emb_2_\" + patient_id + \".npy\", shuff_g2)\n",
    "    \n",
    "    # Load GPT-2 embeddings\n",
    "    gpt_1 = np.load(\"gpt2_emb_1_\" + patient_id + \".npy\", allow_pickle=True)\n",
    "    gpt_2 = np.load(\"gpt2_emb_2_\" + patient_id + \".npy\", allow_pickle=True)\n",
    "    \n",
    "    # Randomly shuffle GPT-2 embeddings 1000 times\n",
    "    shuff_g1 = np.zeros((1000, gpt_1.shape[0], gpt_1.shape[1]))\n",
    "    shuff_g2 = np.zeros((1000, gpt_2.shape[0], gpt_2.shape[1]))\n",
    "    for i in range(1000):\n",
    "        gpt_1_copy = np.copy(gpt_1)\n",
    "        np.random.shuffle(gpt_1_copy)\n",
    "        shuff_g1[i, :] = gpt_1_copy\n",
    "        \n",
    "        gpt_2_copy = np.copy(gpt_2)\n",
    "        np.random.shuffle(gpt_2_copy)\n",
    "        shuff_g2[i, :] = gpt_2_copy\n",
    "        \n",
    "    np.save(\"shuff_gpt_emb_1_\" + patient_id + \".npy\", shuff_g1)\n",
    "    np.save(\"shuff_gpt_emb_2_\" + patient_id + \".npy\", shuff_g2)"
   ]
  },
  {
   "cell_type": "code",
   "execution_count": null,
   "id": "27f2e85e-bb99-45c4-b7f5-b25f51474a02",
   "metadata": {},
   "outputs": [],
   "source": []
  }
 ],
 "metadata": {
  "kernelspec": {
   "display_name": "grav-analysis [~/.conda/envs/grav-analysis/]",
   "language": "python",
   "name": "conda_grav-analysis"
  },
  "language_info": {
   "codemirror_mode": {
    "name": "ipython",
    "version": 3
   },
   "file_extension": ".py",
   "mimetype": "text/x-python",
   "name": "python",
   "nbconvert_exporter": "python",
   "pygments_lexer": "ipython3",
   "version": "3.10.6"
  }
 },
 "nbformat": 4,
 "nbformat_minor": 5
}
