{
 "cells": [
  {
   "cell_type": "markdown",
   "id": "124ecc55-834f-4181-86b3-dc60d2093d48",
   "metadata": {},
   "source": [
    "# Extract Electrodes with y-coordinates less than -45 in the MNI space (visual electrodes)"
   ]
  },
  {
   "cell_type": "code",
   "execution_count": 1,
   "id": "1ea04b24-a1bb-4156-98a9-8f13da2b2595",
   "metadata": {},
   "outputs": [],
   "source": [
    "import scipy\n",
    "import numpy as np\n",
    "import pickle"
   ]
  },
  {
   "cell_type": "code",
   "execution_count": 2,
   "id": "6115bb31-b246-41d1-bfdb-4a6368d18b4a",
   "metadata": {},
   "outputs": [],
   "source": [
    "vis_elec = # Removed to protect patient anonymity\n",
    "vis_elec_counts = # Removed to protect patient anonymity\n",
    "\n",
    "for key in vis_elec.keys():\n",
    "    elecpos = scipy.io.loadmat('/scratch/gpfs/mayaar/GravityECoG/derivatives/preprocessing/sub-ny' + key + '/eeg1_manualica_notch_elec_elecpos.mat')['trial']\n",
    "    elecs = np.where((elecpos[:, 1] < -45) == True)\n",
    "    for i in range(elecs[0].shape[0]):\n",
    "        vis_elec[key].append(elecs[0][i])\n",
    "        vis_elec_counts[key] +=  1"
   ]
  },
  {
   "cell_type": "code",
   "execution_count": 6,
   "id": "019ad946-1b69-430e-8d34-d5e9330205d6",
   "metadata": {},
   "outputs": [],
   "source": [
    "# create a binary pickle file \n",
    "f = open(\"../sourcedata/vis_elec_idx.pkl\",\"wb\")\n",
    "\n",
    "# write the python object (dict) to pickle file\n",
    "pickle.dump(vis_elec,f)\n",
    "\n",
    "# close file\n",
    "f.close()"
   ]
  },
  {
   "cell_type": "code",
   "execution_count": null,
   "id": "ddcfa1b1-c880-469d-8301-241c42f511a1",
   "metadata": {},
   "outputs": [],
   "source": []
  }
 ],
 "metadata": {
  "kernelspec": {
   "display_name": "grav-analysis [~/.conda/envs/grav-analysis/]",
   "language": "python",
   "name": "conda_grav-analysis"
  },
  "language_info": {
   "codemirror_mode": {
    "name": "ipython",
    "version": 3
   },
   "file_extension": ".py",
   "mimetype": "text/x-python",
   "name": "python",
   "nbconvert_exporter": "python",
   "pygments_lexer": "ipython3",
   "version": "3.10.6"
  }
 },
 "nbformat": 4,
 "nbformat_minor": 5
}
