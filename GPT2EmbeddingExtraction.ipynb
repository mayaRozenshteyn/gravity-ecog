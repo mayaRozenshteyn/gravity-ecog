{
 "cells": [
  {
   "cell_type": "code",
   "execution_count": 1,
   "id": "4a33810e-46a7-44ca-b8b0-69585d53b8ee",
   "metadata": {},
   "outputs": [],
   "source": [
    "from transformers import GPT2LMHeadModel, GPT2Tokenizer\n",
    "import pickle\n",
    "import numpy as np\n",
    "import csv\n",
    "import scipy\n",
    "from sklearn.decomposition import PCA"
   ]
  },
  {
   "cell_type": "code",
   "execution_count": 2,
   "id": "8d718ca5-644b-49f4-9eb2-f24553995572",
   "metadata": {},
   "outputs": [],
   "source": [
    "model = GPT2LMHeadModel.from_pretrained('gpt2')\n",
    "tokenizer = GPT2Tokenizer.from_pretrained('gpt2')"
   ]
  },
  {
   "cell_type": "code",
   "execution_count": 3,
   "id": "c4e2e2d4-c6f0-4422-a04b-3e350c73ced0",
   "metadata": {},
   "outputs": [],
   "source": [
    "id_eleccount = # Removed to protect patient anonymity"
   ]
  },
  {
   "cell_type": "code",
   "execution_count": 4,
   "id": "9a44266d-00bb-4804-9dcf-32f2c9d2e90f",
   "metadata": {},
   "outputs": [],
   "source": [
    "def segment_transcript_by_movie(patient_id, ecog1_t, ecog2_t):\n",
    "    # Load in interview transcript\n",
    "    with open('/scratch/gpfs/mayaar/GravityECoG/sourcedata/interview-transcripts/cleaned/cleaned_transcript_ny' + patient_id + '.csv', newline='') as f:\n",
    "        reader = csv.reader(f)\n",
    "        data = list(reader)\n",
    "        \n",
    "    # Movie 1\n",
    "    words_1 = []\n",
    "    onsets_1 = []\n",
    "    # Movie 2\n",
    "    words_2 = []\n",
    "    onsets_2 = []\n",
    "\n",
    "    for i in range(len(data)):\n",
    "        if ((float(data[i][2]) > (ecog1_t[0] + 2)) and (float(data[i][2]) < (ecog1_t[-1] - 2))):\n",
    "            words_1.append(data[i][1])\n",
    "            onsets_1.append(data[i][2])\n",
    "        if ((float(data[i][2]) > (ecog2_t[0] + 2)) and (float(data[i][2]) < (ecog2_t[-1] - 2))):\n",
    "            words_2.append(data[i][1])\n",
    "            onsets_2.append(data[i][2])\n",
    "\n",
    "    onsets_1 = np.array(onsets_1, dtype=float)\n",
    "    onsets_2 = np.array(onsets_2, dtype=float)\n",
    "    \n",
    "    return words_1, words_2, onsets_1, onsets_2"
   ]
  },
  {
   "cell_type": "code",
   "execution_count": 5,
   "id": "dce94eec-d169-44ea-8790-a8f400329cbd",
   "metadata": {},
   "outputs": [],
   "source": [
    "def split_interval (onset, offset, n):\n",
    "    splits = np.linspace(onset, offset, n+1)\n",
    "    return splits[0:-1], splits[1:]"
   ]
  },
  {
   "cell_type": "code",
   "execution_count": 6,
   "id": "af715fe9-3ea4-408b-8cd9-f70dcf997855",
   "metadata": {},
   "outputs": [],
   "source": [
    "def get_embeddings(words, onsets):\n",
    "    embeddings = [] # 1767 = number of tokens, 768 = tensor length\n",
    "    t_onsets = [] # 771 = number of tokens, 768 = tensor length\n",
    "   \n",
    "    for windex, word in enumerate(words):\n",
    "        text_index = tokenizer.encode(word,add_prefix_space=True)\n",
    "        vector = model.transformer.wte.weight[text_index,:]\n",
    "\n",
    "        if len(vector) > 1:\n",
    "            if (windex + 1) < len(onsets):\n",
    "                onsets_new, offsets_new = split_interval(onsets[windex],\n",
    "                                                         onsets[windex + 1], len(vector))\n",
    "            else:\n",
    "                onsets_new, offsets_new = split_interval(onsets[windex],\n",
    "                                                         onsets[windex] + 0.2, len(vector))\n",
    "            for j in range(len(vector)):\n",
    "                embeddings.append(vector.detach().numpy()[j, :])\n",
    "                t_onsets.append(onsets_new[j])\n",
    "        else:\n",
    "            onsets_new  = onsets[windex]\n",
    "            embeddings.append(vector.detach().numpy())\n",
    "            t_onsets.append(onsets_new)\n",
    "            \n",
    "    # Turning Embeddings into numpy array\n",
    "    emb_np = np.zeros((len(embeddings), 768))\n",
    "    for i in range(len(embeddings)):\n",
    "        emb_np[i, :] = embeddings[i]\n",
    "            \n",
    "    # Taking number of Principal Components as 50\n",
    "    pca = PCA(n_components = 50)\n",
    "    pca.fit(emb_np)\n",
    "    return pca.transform(emb_np), t_onsets"
   ]
  },
  {
   "cell_type": "code",
   "execution_count": 7,
   "id": "022623dc-1fa2-4e87-9d24-b1c57df0e02f",
   "metadata": {},
   "outputs": [],
   "source": [
    "for patient_id in id_eleccount:\n",
    "    # Load in ECoG time axis\n",
    "    ecog1_t = scipy.io.loadmat('/scratch/gpfs/mayaar/GravityECoG/derivatives/preprocessing/sub-ny' + patient_id + '/eeg1_manualica_notch_time.mat')['trial'][0]\n",
    "    ecog1_t = np.array(ecog1_t, dtype=float)\n",
    "    ecog2_t = scipy.io.loadmat('/scratch/gpfs/mayaar/GravityECoG/derivatives/preprocessing/sub-ny' + patient_id + '/eeg2_manualica_notch_time.mat')['trial'][0]\n",
    "    ecog2_t = np.array(ecog2_t, dtype=float)\n",
    "    \n",
    "    # Separate words into corresponding ECoG recordings (1 and 2)\n",
    "    words_1, words_2, onsets_1, onsets_2 = segment_transcript_by_movie(patient_id, ecog1_t, ecog2_t)\n",
    "\n",
    "    # Generate and save 50 dimensional GloVe embeddings for each word\n",
    "    embeddings_1, t_onsets_1 = get_embeddings(words_1, onsets_1)\n",
    "    embeddings_2, t_onsets_2 = get_embeddings(words_2, onsets_2)\n",
    "    \n",
    "    np.save(\"gpt2_emb_1_\" + patient_id + \".npy\", embeddings_1)\n",
    "    np.save(\"gpt2_emb_2_\" + patient_id + \".npy\", embeddings_2)\n",
    "    np.save(\"gpt2_onsets_1_\" + patient_id + \".npy\", t_onsets_1)\n",
    "    np.save(\"gpt2_onsets_2_\" + patient_id + \".npy\", t_onsets_2)"
   ]
  },
  {
   "cell_type": "code",
   "execution_count": null,
   "id": "65e9322b-ff90-44d7-96ba-508861f56d94",
   "metadata": {},
   "outputs": [],
   "source": []
  }
 ],
 "metadata": {
  "kernelspec": {
   "display_name": "diffusion [~/.conda/envs/diffusion/]",
   "language": "python",
   "name": "conda_diffusion"
  },
  "language_info": {
   "codemirror_mode": {
    "name": "ipython",
    "version": 3
   },
   "file_extension": ".py",
   "mimetype": "text/x-python",
   "name": "python",
   "nbconvert_exporter": "python",
   "pygments_lexer": "ipython3",
   "version": "3.9.16"
  }
 },
 "nbformat": 4,
 "nbformat_minor": 5
}
