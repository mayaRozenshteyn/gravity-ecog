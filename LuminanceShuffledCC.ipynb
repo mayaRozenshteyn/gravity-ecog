{
 "cells": [
  {
   "cell_type": "code",
   "execution_count": null,
   "id": "8e9939cb-5704-40ec-9d3a-ebd175ad20e5",
   "metadata": {},
   "outputs": [],
   "source": [
    "import scipy.stats as stats\n",
    "import matplotlib.pyplot as plt\n",
    "import numpy as np\n",
    "from scipy.signal import correlate, correlation_lags\n",
    "import scipy\n",
    "import mne\n",
    "from nilearn import datasets, image, plotting\n",
    "import scipy.io\n",
    "import re\n",
    "import seaborn\n",
    "import pickle\n",
    "import sklearn\n",
    "from sklearn.mixture import GaussianMixture"
   ]
  },
  {
   "cell_type": "markdown",
   "id": "87a4e339-c4c6-40b2-8313-dcec284ee2eb",
   "metadata": {
    "tags": []
   },
   "source": [
    "# Computing Cross Correlations w/ Shuffled Audio Signal"
   ]
  },
  {
   "cell_type": "code",
   "execution_count": null,
   "id": "6d7dff99-151d-4844-a1c5-69f596250936",
   "metadata": {},
   "outputs": [],
   "source": [
    "id_eleccount = # Removed to protect patient anonymity"
   ]
  },
  {
   "cell_type": "code",
   "execution_count": null,
   "id": "a923e0c5-c7d4-4d37-a138-09fbb12998a6",
   "metadata": {},
   "outputs": [],
   "source": [
    "vis_elec = pickle.load(open(\"../../sourcedata/vis_elec_idx.pkl\", \"rb\"))"
   ]
  },
  {
   "cell_type": "code",
   "execution_count": null,
   "id": "9cf9ef33-8db9-4735-95a9-d9d80824367d",
   "metadata": {},
   "outputs": [],
   "source": [
    "lags = np.load(\"../../derivatives/results/audio-envelope/audio_lags.npy\", allow_pickle=True)"
   ]
  },
  {
   "cell_type": "markdown",
   "id": "c8a8908a-fd80-497e-97a2-f799f0ce8b5a",
   "metadata": {
    "tags": []
   },
   "source": [
    "### Z-Scoring Correlations"
   ]
  },
  {
   "cell_type": "code",
   "execution_count": null,
   "id": "8098f944-c4f1-43b2-bd5a-2b4b5ec0ca2c",
   "metadata": {},
   "outputs": [],
   "source": [
    "g1 = np.load(\"tr_lum_g1.npy\", allow_pickle = True)\n",
    "g2 = np.load(\"tr_lum_g2.npy\", allow_pickle = True)"
   ]
  },
  {
   "cell_type": "code",
   "execution_count": null,
   "id": "e46b866f-00eb-4c36-a2e1-698ea31ef470",
   "metadata": {},
   "outputs": [],
   "source": [
    "def cross_correlate(film_data, neural_data):\n",
    "    xcorr_arr = np.zeros((neural_data.shape[0], film_data.shape[0] + neural_data.shape[1] - 1))\n",
    "    lags_arr = np.zeros((neural_data.shape[0], film_data.shape[0] + neural_data.shape[1] - 1))\n",
    "    for i in range(neural_data.shape[0]):\n",
    "        xcorr_arr[i,:] = correlate(film_data - np.mean(film_data), neural_data[i, :] - np.mean(neural_data[i, :]), mode='full')\n",
    "        lags_arr[i,:] = correlation_lags(film_data.shape[0], neural_data.shape[1], mode=\"full\")\n",
    "    return xcorr_arr, lags_arr"
   ]
  },
  {
   "cell_type": "code",
   "execution_count": null,
   "id": "120fbfca-a448-420f-ba50-5bc593ea5ad6",
   "metadata": {},
   "outputs": [],
   "source": [
    "# Compute Z-Score for +/- 35 seconds lag around the start of the movie\n",
    "def z_score_cc(cc, film_data, neural_data, electrode_num, proper_cc, spearman_lags, zero_lag_idx):\n",
    "    # At every electrode and every time point, compute mean and stddev (of shuffled cc)\n",
    "    shuffled_means = np.mean(cc, axis=0)\n",
    "    shuffled_stdevs = np.std(cc, axis=0)\n",
    "    # Z-Scored Correlations\n",
    "    z_scored_cc = (proper_cc[electrode_num, :] - shuffled_means) / shuffled_stdevs\n",
    "    lags_center_arr = spearman_lags[electrode_num, zero_lag_idx - 35*512:zero_lag_idx + 35*512 + 1]\n",
    "    \n",
    "    return z_scored_cc, lags_center_arr"
   ]
  },
  {
   "cell_type": "code",
   "execution_count": null,
   "id": "fd53c15f-1061-4c4c-8bbd-38a24d2623ae",
   "metadata": {},
   "outputs": [],
   "source": [
    "def z_score_full(patient_id):\n",
    "    nr_1 = np.load(\"../../sourcedata/tie-ranked-ecog/ecog1-\" + patient_id + \".npy\", allow_pickle = True)\n",
    "    nr_2 = np.load(\"../../sourcedata/tie-ranked-ecog/ecog2-\" + patient_id + \".npy\", allow_pickle = True)\n",
    "\n",
    "    # Proper Correlations (G1)\n",
    "    spearman_cc, spearman_lags = cross_correlate(g1, nr_1)\n",
    "    zero_lag_idx = np.where(spearman_lags[0, :] == 0)[0][0]\n",
    "    proper_cc_1 = spearman_cc[:, zero_lag_idx - 35*512:zero_lag_idx + 35*512 + 1]\n",
    "    \n",
    "    # Compute Z-Score for each electrode\n",
    "    for channel in vis_elec[patient_id]:\n",
    "        cc_surrog = np.load(\"../../derivatives/results/luminance/TRCC/tr-cc1-\" + patient_id + \"-\" + str(channel) + \".npy\", allow_pickle = True)\n",
    "        zscc_1, lags_1 = z_score_cc(cc_surrog, g1, nr_1, channel, proper_cc_1, spearman_lags, zero_lag_idx)\n",
    "        np.save(\"../../derivatives/results/luminance/ZScoredCC/zscc1-\" + patient_id + \"-\" + str(channel) + \".npy\", zscc_1)\n",
    "    \n",
    "    zc_by_elec = np.zeros((len(vis_elec[patient_id]), 35*512*2+1))\n",
    "    \n",
    "    i = 0\n",
    "    for channel in vis_elec[patient_id]:\n",
    "        zc_by_elec[i, :] = np.load(\"../../derivatives/results/luminance/ZScoredCC/zscc1-\" + patient_id + \"-\" + str(channel) + \".npy\", allow_pickle = True)\n",
    "        i += 1\n",
    "    np.save(\"../../derivatives/results/luminance/av_across_elec_1_\" + patient_id + \".npy\", np.mean(zc_by_elec, axis=0)) \n",
    "    np.save(\"../../derivatives/results/luminance/zc_by_elec_1_\" + patient_id + \".npy\", zc_by_elec)  \n",
    "    \n",
    "    # Proper Correlations (G2)\n",
    "    spearman_cc, spearman_lags = cross_correlate(g2, nr_2)\n",
    "    zero_lag_idx = np.where(spearman_lags[0, :] == 0)[0][0]\n",
    "    proper_cc_2 = spearman_cc[:, zero_lag_idx - 35*512:zero_lag_idx + 35*512 + 1]\n",
    "    \n",
    "    # Compute Z-Score for each electrode\n",
    "    for channel in vis_elec[patient_id]:\n",
    "        cc_surrog = np.load(\"../../derivatives/results/luminance/TRCC/tr-cc2-\" + patient_id + \"-\" + str(channel) + \".npy\", allow_pickle = True)\n",
    "        zscc_2, lags_2 = z_score_cc(cc_surrog, g2, nr_2, channel, proper_cc_2, spearman_lags, zero_lag_idx)\n",
    "        np.save(\"../../derivatives/results/luminance/ZScoredCC/zscc2-\" + patient_id + \"-\" + str(channel) + \".npy\", zscc_2)\n",
    "    \n",
    "    zc_by_elec = np.zeros((len(vis_elec[patient_id]), 35*512*2+1))\n",
    "    \n",
    "    i = 0\n",
    "    for channel in vis_elec[patient_id]:\n",
    "        zc_by_elec[i, :] = np.load(\"../../derivatives/results/luminance/ZScoredCC/zscc2-\" + patient_id + \"-\" + str(channel) + \".npy\", allow_pickle = True)\n",
    "        i += 1\n",
    "    np.save(\"../../derivatives/results/luminance/av_across_elec_2_\" + patient_id + \".npy\", np.mean(zc_by_elec, axis=0)) \n",
    "    np.save(\"../../derivatives/results/luminance/zc_by_elec_2_\" + patient_id + \".npy\", zc_by_elec) "
   ]
  },
  {
   "cell_type": "code",
   "execution_count": null,
   "id": "a636137f-78d9-4b4c-b436-cc53d9f14af8",
   "metadata": {},
   "outputs": [],
   "source": [
    "for key in id_eleccount.keys():\n",
    "    z_score_full(key)"
   ]
  },
  {
   "cell_type": "markdown",
   "id": "096e8540-a840-4a95-93a0-e6089c913094",
   "metadata": {
    "tags": []
   },
   "source": [
    "# T-Test"
   ]
  },
  {
   "cell_type": "code",
   "execution_count": null,
   "id": "c7988299-16c9-43d2-90f9-402ac29b2f2e",
   "metadata": {},
   "outputs": [],
   "source": [
    "# Removed to protect patient anonymity"
   ]
  },
  {
   "cell_type": "markdown",
   "id": "5687ada4-0ade-46d1-b6ad-d70d82d252ac",
   "metadata": {},
   "source": [
    "# Plotting Significant Correlations"
   ]
  },
  {
   "cell_type": "markdown",
   "id": "8e1bfc8f-1852-488f-a983-163707d8a4e6",
   "metadata": {
    "tags": []
   },
   "source": [
    "## Visual ROI Retrieval"
   ]
  },
  {
   "cell_type": "code",
   "execution_count": null,
   "id": "198ab742-bd52-4127-ad2a-b03b995c9b93",
   "metadata": {},
   "outputs": [],
   "source": [
    "# Retrieve the AAL atlas\n",
    "aal_atlas = datasets.fetch_atlas_aal('SPM12')"
   ]
  },
  {
   "cell_type": "code",
   "execution_count": null,
   "id": "5375933b-c884-4662-88e7-68a3e3eeaed4",
   "metadata": {},
   "outputs": [],
   "source": [
    "# ROIs: Occipital Gyrus & Calcarine Sulcus\n",
    "\n",
    "# Find the index of the target regions in the AAL atlas map\n",
    "osl_idx = aal_atlas.indices[aal_atlas.labels.index('Occipital_Sup_L')]\n",
    "osr_idx = aal_atlas.indices[aal_atlas.labels.index('Occipital_Sup_R')]\n",
    "oml_idx = aal_atlas.indices[aal_atlas.labels.index('Occipital_Mid_L')]\n",
    "omr_idx = aal_atlas.indices[aal_atlas.labels.index('Occipital_Mid_R')]\n",
    "oil_idx = aal_atlas.indices[aal_atlas.labels.index('Occipital_Inf_L')]\n",
    "oir_idx = aal_atlas.indices[aal_atlas.labels.index('Occipital_Inf_R')]\n",
    "cl_idx = aal_atlas.indices[aal_atlas.labels.index('Calcarine_L')]\n",
    "cr_idx = aal_atlas.indices[aal_atlas.labels.index('Calcarine_R')]\n",
    "\n",
    "# Select only voxels for which the value is equal to this index\n",
    "osl_map = image.math_img('img == %s' % osl_idx, img=aal_atlas.maps)\n",
    "osr_map = image.math_img('img == %s' % osr_idx, img=aal_atlas.maps)\n",
    "oml_map = image.math_img('img == %s' % oml_idx, img=aal_atlas.maps)\n",
    "omr_map = image.math_img('img == %s' % omr_idx, img=aal_atlas.maps)\n",
    "oil_map = image.math_img('img == %s' % oil_idx, img=aal_atlas.maps)\n",
    "oir_map = image.math_img('img == %s' % oir_idx, img=aal_atlas.maps)\n",
    "cl_map = image.math_img('img == %s' % cl_idx, img=aal_atlas.maps)\n",
    "cr_map = image.math_img('img == %s' % cr_idx, img=aal_atlas.maps)\n",
    "\n",
    "\n",
    "mask = image.math_img('img1 + img2 + img3 + img4 + img5 + img6 + img7 + img8', img1=osl_map, img2=osr_map, \n",
    "                      img3=oml_map, img4=omr_map, img5=oil_map, img6=oir_map, img7=cl_map, img8=cr_map)\n",
    "\n",
    "fig = plotting.plot_roi(mask, draw_cross=False)\n",
    "plt.savefig(\"visual_roi.png\", dpi=600)"
   ]
  },
  {
   "cell_type": "markdown",
   "id": "2951dd57-438e-4347-b4fe-4280a20f0f38",
   "metadata": {},
   "source": [
    "## Plotting Z-Scores For Significant Electrodes"
   ]
  },
  {
   "cell_type": "code",
   "execution_count": null,
   "id": "82f833d4-9ee6-4f8c-bcc6-644f417189da",
   "metadata": {},
   "outputs": [],
   "source": [
    "def plot_sensitive_elec(patient_id, channel_num, pos, lag):\n",
    "    zc_1 = np.load(\"../../derivatives/results/luminance/zc_by_elec_1_\" + patient_id + \".npy\", allow_pickle = True)[channel_num, 15872-4*512:15872+4*512+1]\n",
    "    zc_2 = np.load(\"../../derivatives/results/luminance/zc_by_elec_2_\" + patient_id + \".npy\", allow_pickle = True)[channel_num, 15872-4*512:15872+4*512+1]\n",
    "\n",
    "    fig, ax = plt.subplots()\n",
    "    plt.ylim([0.5, 2.5])\n",
    "    plt.xlabel('Time From Movie Onset (ms)')\n",
    "    plt.ylabel('Z-Score')\n",
    "    if pos:\n",
    "        plt.plot(lags[15872-4*512:15872+4*512+1]*1000/512, (zc_1 + zc_2) / 2)\n",
    "    else:\n",
    "        plt.plot(lags[15872-4*512:15872+4*512+1]*-1000/512, (zc_1 + zc_2) / 2)\n",
    "\n",
    "    plt.annotate(str(lag) + ' ms', (.6, .8), xycoords='axes fraction', fontsize=15)\n",
    "    ax.hlines(y=1.65, xmin=-4000, xmax=4000, linewidth=2, color='purple', linestyle='dashed')\n",
    "    fig.savefig(\"ZCPlots/\" + patient_id + \"_\" + str(channel_num) + \".png\", dpi=600)\n",
    "    plt.close(fig)"
   ]
  },
  {
   "cell_type": "code",
   "execution_count": null,
   "id": "48527345-9171-409b-99b3-cc721cf0cb14",
   "metadata": {},
   "outputs": [],
   "source": [
    "# Determining significant electrodes: peak z-score greater than 1.65 percentile z-scores w/in 400 ms of movie onset\n",
    "\n",
    "elecplos_list = []\n",
    "lags_list = []\n",
    "\n",
    "# Get significant electrode lag + MNI coordinate + plot\n",
    "for key in id_eleccount:\n",
    "    zc_1 = np.load(\"../../derivatives/results/luminance/zc_by_elec_1_\" + key + \".npy\", allow_pickle = True)[:, 15872-10*512:15872+10*512+1]\n",
    "    zc_2 = np.load(\"../../derivatives/results/luminance/zc_by_elec_2_\" + key + \".npy\", allow_pickle = True)[:, 15872-10*512:15872+10*512+1]\n",
    "    elecpos = scipy.io.loadmat('/scratch/gpfs/mayaar/GravityECoG/derivatives/preprocessing/sub-ny' + key + '/eeg1_manualica_notch_elec_elecpos.mat')['trial']\n",
    "    \n",
    "    for i in range(len(vis_elec[key])):\n",
    "        avg = (zc_1[i, :] + zc_2[i, :]) / 2\n",
    "        if (np.amax(avg) > 1.65) and (np.argmax(avg) > 4600) and (np.argmax(avg) < 5400):\n",
    "            print(key, \": \", i)\n",
    "            lag = (np.argmax(avg)-5000) * 1000/512\n",
    "            if (lag < 0):\n",
    "                plot_sensitive_elec(key, i, False, abs(lag))\n",
    "            else:\n",
    "                plot_sensitive_elec(key, i, True, abs(lag))\n",
    "            elecplos_list.append(elecpos[vis_elec[key][i], :])\n",
    "            lags_list.append((np.argmax(avg)-5000) * 1000/512)            "
   ]
  },
  {
   "cell_type": "code",
   "execution_count": null,
   "id": "0d99f02a-f48e-45c1-8286-e0dc272da310",
   "metadata": {},
   "outputs": [],
   "source": [
    "# Manually remove non-clearly responsive electo\n",
    "indices = (0,1,3,4,5,6,12,16,17,19)\n",
    "\n",
    "elecplos_list_filtered = [elecplos_list[i] for i in indices] \n",
    "lags_list_filtered = [abs(lags_list[i]) for i in indices]"
   ]
  },
  {
   "cell_type": "code",
   "execution_count": null,
   "id": "c9ecdf02-9389-4244-adc9-596c94b1b8ed",
   "metadata": {},
   "outputs": [],
   "source": [
    "lags_list_filtered"
   ]
  },
  {
   "cell_type": "code",
   "execution_count": null,
   "id": "9c396b34-2d2a-4b1a-bfe1-8e027dc60a22",
   "metadata": {},
   "outputs": [],
   "source": [
    "np.mean(lags_list_filtered)"
   ]
  },
  {
   "cell_type": "code",
   "execution_count": null,
   "id": "bf71bdb8-8c21-4abc-99c1-816d93a01b81",
   "metadata": {},
   "outputs": [],
   "source": [
    "np.std(lags_list_filtered)"
   ]
  },
  {
   "cell_type": "code",
   "execution_count": null,
   "id": "65cac647-adcc-49ef-90db-1ba5926aac54",
   "metadata": {},
   "outputs": [],
   "source": [
    "# Coordinates in MNI Space\n",
    "og_1 = np.array([-17,-84,28])\n",
    "og_2 = np.array([24,-81,31])\n",
    "og_3 = np.array([-32,-81,16])\n",
    "og_4 = np.array([37,-80,19])\n",
    "og_5 = np.array([-36,-78,-8])\n",
    "og_6 = np.array([38,-82,-8])\n",
    "\n",
    "cal_1 = np.array([-7,-79,6])\n",
    "cal_2 = np.array([16,-73,9])\n",
    "\n",
    "vis_full = [cal_1, cal_2]\n",
    "\n",
    "def calc_dist_from_occip(coord):\n",
    "    dists = []\n",
    "    \n",
    "    for posit in vis_full:\n",
    "        dists.append(np.linalg.norm(posit - coord))\n",
    "        \n",
    "    return min(dists)"
   ]
  },
  {
   "cell_type": "code",
   "execution_count": null,
   "id": "1fb1491d-a740-4500-9d18-1ed9e2605a4c",
   "metadata": {},
   "outputs": [],
   "source": [
    "dists = []\n",
    "\n",
    "for pos in elecplos_list_filtered:\n",
    "    dists.append(calc_dist_from_occip(pos))"
   ]
  },
  {
   "cell_type": "code",
   "execution_count": null,
   "id": "31dab777-be22-46aa-be59-c5a84b9c049e",
   "metadata": {},
   "outputs": [],
   "source": [
    "dists"
   ]
  },
  {
   "cell_type": "code",
   "execution_count": null,
   "id": "bb1b726d-57a3-40ef-a6d2-32e4bb791321",
   "metadata": {},
   "outputs": [],
   "source": [
    "np.mean(dists)"
   ]
  },
  {
   "cell_type": "code",
   "execution_count": null,
   "id": "90ea9674-4686-47a7-ae25-4631711876fe",
   "metadata": {},
   "outputs": [],
   "source": [
    "np.std(dists)"
   ]
  },
  {
   "cell_type": "code",
   "execution_count": null,
   "id": "6a402b44-ca5a-41e7-9390-4fe6f674d1bb",
   "metadata": {},
   "outputs": [],
   "source": [
    "fig = plt.figure(figsize=(12, 6))\n",
    "plotting.plot_markers(lags_list_filtered,\n",
    "                elecplos_list_filtered,\n",
    "                node_size=10,\n",
    "                node_vmin=0,\n",
    "                node_vmax=np.max(lags_list_filtered),\n",
    "                node_cmap=plt.cm.jet,\n",
    "                node_threshold=None,\n",
    "                display_mode='lzry',\n",
    "                figure=fig,\n",
    "                axes=None,\n",
    "                title=None,\n",
    "                annotate=True,\n",
    "                colorbar=True)\n",
    "plt.savefig(\"lum_zc.png\", dpi=600)"
   ]
  },
  {
   "cell_type": "code",
   "execution_count": null,
   "id": "dead5608-5e0a-4f0b-ac87-41ac9cd02062",
   "metadata": {},
   "outputs": [],
   "source": []
  }
 ],
 "metadata": {
  "kernelspec": {
   "display_name": "grav-analysis [~/.conda/envs/grav-analysis/]",
   "language": "python",
   "name": "conda_grav-analysis"
  },
  "language_info": {
   "codemirror_mode": {
    "name": "ipython",
    "version": 3
   },
   "file_extension": ".py",
   "mimetype": "text/x-python",
   "name": "python",
   "nbconvert_exporter": "python",
   "pygments_lexer": "ipython3",
   "version": "3.10.6"
  }
 },
 "nbformat": 4,
 "nbformat_minor": 5
}
