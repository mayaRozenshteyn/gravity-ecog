{
 "cells": [
  {
   "cell_type": "code",
   "execution_count": 8,
   "id": "4a33810e-46a7-44ca-b8b0-69585d53b8ee",
   "metadata": {},
   "outputs": [],
   "source": [
    "from tensorflow.keras.preprocessing.text import Tokenizer\n",
    "from tensorflow.keras.preprocessing.sequence import pad_sequences\n",
    "import pickle\n",
    "import numpy as np\n",
    "import csv\n",
    "import scipy"
   ]
  },
  {
   "cell_type": "code",
   "execution_count": 9,
   "id": "c4e2e2d4-c6f0-4422-a04b-3e350c73ced0",
   "metadata": {},
   "outputs": [],
   "source": [
    "id_eleccount = # Removed to protect patient anonymity"
   ]
  },
  {
   "cell_type": "code",
   "execution_count": 10,
   "id": "9a44266d-00bb-4804-9dcf-32f2c9d2e90f",
   "metadata": {},
   "outputs": [],
   "source": [
    "def segment_transcript_by_movie(patient_id, ecog1_t, ecog2_t):\n",
    "    # Load in interview transcript\n",
    "    with open('/scratch/gpfs/mayaar/GravityECoG/sourcedata/interview-transcripts/cleaned/cleaned_transcript_ny' + patient_id + '.csv', newline='') as f:\n",
    "        reader = csv.reader(f)\n",
    "        data = list(reader)\n",
    "        \n",
    "    # Movie 1\n",
    "    words_1 = []\n",
    "    # Movie 2\n",
    "    words_2 = []\n",
    "\n",
    "    # Check if word recorded during first or second ECoG recording\n",
    "    # Do not include words said in first or last 2000ms of either recording (out of sliding time window range)\n",
    "    for i in range(len(data)):\n",
    "        if ((float(data[i][2]) > (ecog1_t[0] + 2)) and (float(data[i][2]) < (ecog1_t[-1] - 2))):\n",
    "            words_1.append(data[i][1])\n",
    "        if ((float(data[i][2]) > (ecog2_t[0] + 2)) and (float(data[i][2]) < (ecog2_t[-1] - 2))):\n",
    "            words_2.append(data[i][1])\n",
    "    \n",
    "    return words_1, words_2"
   ]
  },
  {
   "cell_type": "code",
   "execution_count": 11,
   "id": "dce94eec-d169-44ea-8790-a8f400329cbd",
   "metadata": {},
   "outputs": [],
   "source": [
    "# Adapted from https://www.geeksforgeeks.org/pre-trained-word-embedding-using-glove-in-nlp-models/\n",
    "\n",
    "# vocab: 'the': 1, mapping of words with integers in seq. 1,2,3..\n",
    "# embedding: 1->dense vector\n",
    "def embedding_for_vocab(filepath, word_index, embedding_dim):\n",
    "    # Adding again 1 because of reserved 0 index\n",
    "    vocab_size = len(word_index) + 1\n",
    "    embedding_matrix_vocab = np.zeros((vocab_size, embedding_dim))\n",
    "  \n",
    "    with open(filepath, encoding=\"utf8\") as f:\n",
    "        for line in f:\n",
    "            word, *vector = line.split()\n",
    "            if word in word_index:\n",
    "                idx = word_index[word]\n",
    "                embedding_matrix_vocab[idx] = np.array(vector, dtype=np.float32)[:embedding_dim]\n",
    "  \n",
    "    return embedding_matrix_vocab"
   ]
  },
  {
   "cell_type": "code",
   "execution_count": 12,
   "id": "af715fe9-3ea4-408b-8cd9-f70dcf997855",
   "metadata": {},
   "outputs": [],
   "source": [
    "def get_embeddings(words):\n",
    "    tokenizer = Tokenizer()\n",
    "    tokenizer.fit_on_texts(words)\n",
    "    print(\"Number of unique words in dictionary=\", len(tokenizer.word_index))\n",
    "    \n",
    "    # matrix for vocab: word_index\n",
    "    embedding_dim = 50\n",
    "    embedding_matrix_vocab = embedding_for_vocab('glove/glove.6B.50d.txt', tokenizer.word_index, embedding_dim)\n",
    "    print(embedding_matrix_vocab.shape)\n",
    "    \n",
    "    word_embeddings = np.zeros((len(words), 50))\n",
    "\n",
    "    for i in range(len(words)):\n",
    "        word_embeddings[i, :] = embedding_matrix_vocab[list(tokenizer.word_index.keys()).index(words[i]) + 1]\n",
    "        \n",
    "    return word_embeddings"
   ]
  },
  {
   "cell_type": "code",
   "execution_count": 13,
   "id": "022623dc-1fa2-4e87-9d24-b1c57df0e02f",
   "metadata": {},
   "outputs": [
    {
     "name": "stdout",
     "output_type": "stream",
     "text": [
      "Number of unique words in dictionary= 410\n",
      "(411, 50)\n",
      "Number of unique words in dictionary= 211\n",
      "(212, 50)\n",
      "Number of unique words in dictionary= 484\n",
      "(485, 50)\n",
      "Number of unique words in dictionary= 297\n",
      "(298, 50)\n",
      "Number of unique words in dictionary= 474\n",
      "(475, 50)\n",
      "Number of unique words in dictionary= 295\n",
      "(296, 50)\n",
      "Number of unique words in dictionary= 528\n",
      "(529, 50)\n",
      "Number of unique words in dictionary= 377\n",
      "(378, 50)\n",
      "Number of unique words in dictionary= 486\n",
      "(487, 50)\n",
      "Number of unique words in dictionary= 283\n",
      "(284, 50)\n",
      "Number of unique words in dictionary= 414\n",
      "(415, 50)\n",
      "Number of unique words in dictionary= 265\n",
      "(266, 50)\n",
      "Number of unique words in dictionary= 466\n",
      "(467, 50)\n",
      "Number of unique words in dictionary= 261\n",
      "(262, 50)\n",
      "Number of unique words in dictionary= 501\n",
      "(502, 50)\n",
      "Number of unique words in dictionary= 316\n",
      "(317, 50)\n",
      "Number of unique words in dictionary= 432\n",
      "(433, 50)\n",
      "Number of unique words in dictionary= 238\n",
      "(239, 50)\n"
     ]
    }
   ],
   "source": [
    "for patient_id in id_eleccount:\n",
    "    # Load in ECoG time axis\n",
    "    ecog1_t = scipy.io.loadmat('/scratch/gpfs/mayaar/GravityECoG/derivatives/preprocessing/sub-ny' + patient_id + '/eeg1_manualica_notch_time.mat')['trial'][0]\n",
    "    ecog1_t = np.array(ecog1_t, dtype=float)\n",
    "    ecog2_t = scipy.io.loadmat('/scratch/gpfs/mayaar/GravityECoG/derivatives/preprocessing/sub-ny' + patient_id + '/eeg2_manualica_notch_time.mat')['trial'][0]\n",
    "    ecog2_t = np.array(ecog2_t, dtype=float)\n",
    "    \n",
    "    # Separate words into corresponding ECoG recordings (1 and 2)\n",
    "    words_1, words_2 = segment_transcript_by_movie(patient_id, ecog1_t, ecog2_t)\n",
    "\n",
    "    # Generate and save 50 dimensional GloVe embeddings for each word\n",
    "    embeddings_1 = get_embeddings(words_1)\n",
    "    embeddings_2 = get_embeddings(words_2)\n",
    "    np.save(\"glove_emb_1_\" + patient_id + \".npy\", embeddings_1)\n",
    "    np.save(\"glove_emb_2_\" + patient_id + \".npy\", embeddings_2)"
   ]
  },
  {
   "cell_type": "code",
   "execution_count": null,
   "id": "f2ee2b97-be91-43eb-b22d-f01c7cb20ae5",
   "metadata": {},
   "outputs": [],
   "source": []
  }
 ],
 "metadata": {
  "kernelspec": {
   "display_name": "grav-analysis [~/.conda/envs/grav-analysis/]",
   "language": "python",
   "name": "conda_grav-analysis"
  },
  "language_info": {
   "codemirror_mode": {
    "name": "ipython",
    "version": 3
   },
   "file_extension": ".py",
   "mimetype": "text/x-python",
   "name": "python",
   "nbconvert_exporter": "python",
   "pygments_lexer": "ipython3",
   "version": "3.10.6"
  }
 },
 "nbformat": 4,
 "nbformat_minor": 5
}
